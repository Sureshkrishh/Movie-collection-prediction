{
 "cells": [
  {
   "cell_type": "markdown",
   "id": "6aaa6832",
   "metadata": {},
   "source": [
    "# MOVIE COLLECTION PREDICTION"
   ]
  },
  {
   "cell_type": "markdown",
   "id": "a0ed5b57",
   "metadata": {},
   "source": [
    "## EDA FOR MOVIE COLLECTION"
   ]
  },
  {
   "cell_type": "markdown",
   "id": "a4447517",
   "metadata": {},
   "source": [
    "### IGNORE WARNINGS"
   ]
  },
  {
   "cell_type": "code",
   "execution_count": 1,
   "id": "212ac71d",
   "metadata": {},
   "outputs": [],
   "source": [
    "import warnings\n",
    "warnings.filterwarnings(action='ignore')"
   ]
  },
  {
   "cell_type": "markdown",
   "id": "0e8e72e2",
   "metadata": {},
   "source": [
    "### LIST OF FILES IN THE DIRECTORY"
   ]
  },
  {
   "cell_type": "code",
   "execution_count": 2,
   "id": "2a4b9f7a",
   "metadata": {},
   "outputs": [
    {
     "data": {
      "text/plain": [
       "['README.md',\n",
       " 'Movie_collection.ipynb',\n",
       " '.git',\n",
       " 'LICENSE',\n",
       " 'movie_collection.csv',\n",
       " '.ipynb_checkpoints']"
      ]
     },
     "execution_count": 2,
     "metadata": {},
     "output_type": "execute_result"
    }
   ],
   "source": [
    "import os\n",
    "os.listdir()"
   ]
  },
  {
   "cell_type": "markdown",
   "id": "e59957fb",
   "metadata": {},
   "source": [
    "### IMPORTING REQUIRED LIBRARIES"
   ]
  },
  {
   "cell_type": "code",
   "execution_count": 3,
   "id": "bc1f6f84",
   "metadata": {},
   "outputs": [],
   "source": [
    "import numpy as np\n",
    "import pandas as pd\n",
    "import matplotlib.pyplot as plt\n",
    "import seaborn as sns"
   ]
  },
  {
   "cell_type": "markdown",
   "id": "630c86f8",
   "metadata": {},
   "source": [
    "### IMPORTING AND READING THE DATASET"
   ]
  },
  {
   "cell_type": "code",
   "execution_count": 4,
   "id": "37c664ec",
   "metadata": {},
   "outputs": [
    {
     "data": {
      "text/html": [
       "<div>\n",
       "<style scoped>\n",
       "    .dataframe tbody tr th:only-of-type {\n",
       "        vertical-align: middle;\n",
       "    }\n",
       "\n",
       "    .dataframe tbody tr th {\n",
       "        vertical-align: top;\n",
       "    }\n",
       "\n",
       "    .dataframe thead th {\n",
       "        text-align: right;\n",
       "    }\n",
       "</style>\n",
       "<table border=\"1\" class=\"dataframe\">\n",
       "  <thead>\n",
       "    <tr style=\"text-align: right;\">\n",
       "      <th></th>\n",
       "      <th>Collection</th>\n",
       "      <th>Marketin_expense</th>\n",
       "      <th>Production_expense</th>\n",
       "      <th>Multiplex_coverage</th>\n",
       "      <th>Budget</th>\n",
       "      <th>Movie_length</th>\n",
       "      <th>Lead_ Actor_Rating</th>\n",
       "      <th>Lead_Actress_rating</th>\n",
       "      <th>Director_rating</th>\n",
       "      <th>Producer_rating</th>\n",
       "      <th>Critic_rating</th>\n",
       "      <th>Trailer_views</th>\n",
       "      <th>Time_taken</th>\n",
       "      <th>Twitter_hastags</th>\n",
       "      <th>Genre</th>\n",
       "      <th>Avg_age_actors</th>\n",
       "      <th>MPAA_film_rating</th>\n",
       "      <th>Num_multiplex</th>\n",
       "      <th>3D_available</th>\n",
       "    </tr>\n",
       "  </thead>\n",
       "  <tbody>\n",
       "    <tr>\n",
       "      <th>0</th>\n",
       "      <td>48000</td>\n",
       "      <td>20.1264</td>\n",
       "      <td>59.62</td>\n",
       "      <td>0.462</td>\n",
       "      <td>36524.125</td>\n",
       "      <td>138.7</td>\n",
       "      <td>7.825</td>\n",
       "      <td>8.095</td>\n",
       "      <td>7.910</td>\n",
       "      <td>7.995</td>\n",
       "      <td>7.94</td>\n",
       "      <td>527367</td>\n",
       "      <td>109.60</td>\n",
       "      <td>223.840</td>\n",
       "      <td>Thriller</td>\n",
       "      <td>23</td>\n",
       "      <td>PG</td>\n",
       "      <td>494</td>\n",
       "      <td>YES</td>\n",
       "    </tr>\n",
       "    <tr>\n",
       "      <th>1</th>\n",
       "      <td>43200</td>\n",
       "      <td>20.5462</td>\n",
       "      <td>69.14</td>\n",
       "      <td>0.531</td>\n",
       "      <td>35668.655</td>\n",
       "      <td>152.4</td>\n",
       "      <td>7.505</td>\n",
       "      <td>7.650</td>\n",
       "      <td>7.440</td>\n",
       "      <td>7.470</td>\n",
       "      <td>7.44</td>\n",
       "      <td>494055</td>\n",
       "      <td>146.64</td>\n",
       "      <td>243.456</td>\n",
       "      <td>Drama</td>\n",
       "      <td>42</td>\n",
       "      <td>PG</td>\n",
       "      <td>462</td>\n",
       "      <td>NO</td>\n",
       "    </tr>\n",
       "    <tr>\n",
       "      <th>2</th>\n",
       "      <td>69400</td>\n",
       "      <td>20.5458</td>\n",
       "      <td>69.14</td>\n",
       "      <td>0.531</td>\n",
       "      <td>39912.675</td>\n",
       "      <td>134.6</td>\n",
       "      <td>7.485</td>\n",
       "      <td>7.570</td>\n",
       "      <td>7.495</td>\n",
       "      <td>7.515</td>\n",
       "      <td>7.44</td>\n",
       "      <td>547051</td>\n",
       "      <td>147.88</td>\n",
       "      <td>2022.400</td>\n",
       "      <td>Comedy</td>\n",
       "      <td>38</td>\n",
       "      <td>PG</td>\n",
       "      <td>458</td>\n",
       "      <td>NO</td>\n",
       "    </tr>\n",
       "    <tr>\n",
       "      <th>3</th>\n",
       "      <td>66800</td>\n",
       "      <td>20.6474</td>\n",
       "      <td>59.36</td>\n",
       "      <td>0.542</td>\n",
       "      <td>38873.890</td>\n",
       "      <td>119.3</td>\n",
       "      <td>6.895</td>\n",
       "      <td>7.035</td>\n",
       "      <td>6.920</td>\n",
       "      <td>7.020</td>\n",
       "      <td>8.26</td>\n",
       "      <td>516279</td>\n",
       "      <td>185.36</td>\n",
       "      <td>225.344</td>\n",
       "      <td>Drama</td>\n",
       "      <td>45</td>\n",
       "      <td>PG</td>\n",
       "      <td>472</td>\n",
       "      <td>YES</td>\n",
       "    </tr>\n",
       "    <tr>\n",
       "      <th>4</th>\n",
       "      <td>72400</td>\n",
       "      <td>21.3810</td>\n",
       "      <td>59.36</td>\n",
       "      <td>0.542</td>\n",
       "      <td>39701.585</td>\n",
       "      <td>127.7</td>\n",
       "      <td>6.920</td>\n",
       "      <td>7.070</td>\n",
       "      <td>6.815</td>\n",
       "      <td>7.070</td>\n",
       "      <td>8.26</td>\n",
       "      <td>531448</td>\n",
       "      <td>176.48</td>\n",
       "      <td>225.792</td>\n",
       "      <td>Drama</td>\n",
       "      <td>55</td>\n",
       "      <td>PG</td>\n",
       "      <td>395</td>\n",
       "      <td>NO</td>\n",
       "    </tr>\n",
       "  </tbody>\n",
       "</table>\n",
       "</div>"
      ],
      "text/plain": [
       "   Collection  Marketin_expense  Production_expense  Multiplex_coverage  \\\n",
       "0       48000           20.1264               59.62               0.462   \n",
       "1       43200           20.5462               69.14               0.531   \n",
       "2       69400           20.5458               69.14               0.531   \n",
       "3       66800           20.6474               59.36               0.542   \n",
       "4       72400           21.3810               59.36               0.542   \n",
       "\n",
       "      Budget  Movie_length  Lead_ Actor_Rating  Lead_Actress_rating  \\\n",
       "0  36524.125         138.7               7.825                8.095   \n",
       "1  35668.655         152.4               7.505                7.650   \n",
       "2  39912.675         134.6               7.485                7.570   \n",
       "3  38873.890         119.3               6.895                7.035   \n",
       "4  39701.585         127.7               6.920                7.070   \n",
       "\n",
       "   Director_rating  Producer_rating  Critic_rating  Trailer_views  Time_taken  \\\n",
       "0            7.910            7.995           7.94         527367      109.60   \n",
       "1            7.440            7.470           7.44         494055      146.64   \n",
       "2            7.495            7.515           7.44         547051      147.88   \n",
       "3            6.920            7.020           8.26         516279      185.36   \n",
       "4            6.815            7.070           8.26         531448      176.48   \n",
       "\n",
       "   Twitter_hastags     Genre  Avg_age_actors MPAA_film_rating  Num_multiplex  \\\n",
       "0          223.840  Thriller              23               PG            494   \n",
       "1          243.456     Drama              42               PG            462   \n",
       "2         2022.400    Comedy              38               PG            458   \n",
       "3          225.344     Drama              45               PG            472   \n",
       "4          225.792     Drama              55               PG            395   \n",
       "\n",
       "  3D_available  \n",
       "0          YES  \n",
       "1           NO  \n",
       "2           NO  \n",
       "3          YES  \n",
       "4           NO  "
      ]
     },
     "execution_count": 4,
     "metadata": {},
     "output_type": "execute_result"
    }
   ],
   "source": [
    "data = pd.read_csv('movie_collection.csv')\n",
    "pd.set_option('max_columns', None)\n",
    "data.head()"
   ]
  },
  {
   "cell_type": "markdown",
   "id": "a6a9f7c5",
   "metadata": {},
   "source": [
    "### NUMBER OF ROWS AND COLUMNS IN DATASET"
   ]
  },
  {
   "cell_type": "code",
   "execution_count": 5,
   "id": "7daeb997",
   "metadata": {},
   "outputs": [
    {
     "name": "stdout",
     "output_type": "stream",
     "text": [
      "The dataset has 506 rows and 19 columns\n"
     ]
    }
   ],
   "source": [
    "rows, columns = data.shape\n",
    "print(f'The dataset has {rows} rows and {columns} columns')"
   ]
  },
  {
   "cell_type": "markdown",
   "id": "fd58231e",
   "metadata": {},
   "source": [
    "### BASIC INFO ON THE DATASET"
   ]
  },
  {
   "cell_type": "code",
   "execution_count": 6,
   "id": "55f1b43d",
   "metadata": {},
   "outputs": [
    {
     "name": "stdout",
     "output_type": "stream",
     "text": [
      "<class 'pandas.core.frame.DataFrame'>\n",
      "RangeIndex: 506 entries, 0 to 505\n",
      "Data columns (total 19 columns):\n",
      " #   Column               Non-Null Count  Dtype  \n",
      "---  ------               --------------  -----  \n",
      " 0   Collection           506 non-null    int64  \n",
      " 1   Marketin_expense     506 non-null    float64\n",
      " 2   Production_expense   506 non-null    float64\n",
      " 3   Multiplex_coverage   506 non-null    float64\n",
      " 4   Budget               506 non-null    float64\n",
      " 5   Movie_length         506 non-null    float64\n",
      " 6   Lead_ Actor_Rating   506 non-null    float64\n",
      " 7   Lead_Actress_rating  506 non-null    float64\n",
      " 8   Director_rating      506 non-null    float64\n",
      " 9   Producer_rating      506 non-null    float64\n",
      " 10  Critic_rating        506 non-null    float64\n",
      " 11  Trailer_views        506 non-null    int64  \n",
      " 12  Time_taken           494 non-null    float64\n",
      " 13  Twitter_hastags      506 non-null    float64\n",
      " 14  Genre                506 non-null    object \n",
      " 15  Avg_age_actors       506 non-null    int64  \n",
      " 16  MPAA_film_rating     506 non-null    object \n",
      " 17  Num_multiplex        506 non-null    int64  \n",
      " 18  3D_available         506 non-null    object \n",
      "dtypes: float64(12), int64(4), object(3)\n",
      "memory usage: 75.2+ KB\n"
     ]
    }
   ],
   "source": [
    "data.info()"
   ]
  },
  {
   "cell_type": "markdown",
   "id": "eeea2064",
   "metadata": {},
   "source": [
    "### NUMBER OF FEATURES AND PERCENTAGE OF NULL VALUES"
   ]
  },
  {
   "cell_type": "code",
   "execution_count": 7,
   "id": "d8865411",
   "metadata": {},
   "outputs": [
    {
     "name": "stdout",
     "output_type": "stream",
     "text": [
      "NUMBER OF NUMERICAL AND CATEGORICAL FEATURES:\n",
      "The dataset has 16 numerical features and 3 categorical features\n",
      "\n",
      "PERCENTAGE MISSING VALUES:\n",
      "The feature 'Time_taken' has 2.37% missing values\n"
     ]
    }
   ],
   "source": [
    "# number of numerical and categorical features\n",
    "num, obj = 0, 0\n",
    "for feature in data:\n",
    "    if data[feature].dtype == 'O':\n",
    "        obj += 1\n",
    "    else:\n",
    "        num += 1\n",
    "print('NUMBER OF NUMERICAL AND CATEGORICAL FEATURES:')\n",
    "print(f'The dataset has {num} numerical features and {obj} categorical features')\n",
    "\n",
    "# Percentage of missing values\n",
    "print('\\nPERCENTAGE MISSING VALUES:')\n",
    "for feature in data:\n",
    "    if data[feature].isnull().sum()!=0:\n",
    "        print(f\"The feature '{feature}' has {np.round((data[feature].isnull().mean()*100),2)}% missing values\")"
   ]
  },
  {
   "cell_type": "markdown",
   "id": "5a8b057d",
   "metadata": {},
   "source": [
    "### LOOKING FOR DUPLICATES IN THE DATASET"
   ]
  },
  {
   "cell_type": "code",
   "execution_count": 8,
   "id": "91c1f247",
   "metadata": {},
   "outputs": [
    {
     "name": "stdout",
     "output_type": "stream",
     "text": [
      "There are no duplicates in the dataset.\n"
     ]
    }
   ],
   "source": [
    "drows, dcolumns = data[data.duplicated()].shape\n",
    "print('There are no duplicates in the dataset.' if drows==0 else f'There are {drows} duplicates in the dataset.')"
   ]
  },
  {
   "cell_type": "markdown",
   "id": "d3b68f2a",
   "metadata": {},
   "source": [
    "### NUMBER OF UNIQUE CATEGORICAL FEATURES"
   ]
  },
  {
   "cell_type": "code",
   "execution_count": 9,
   "id": "f8ed0dfd",
   "metadata": {},
   "outputs": [
    {
     "name": "stdout",
     "output_type": "stream",
     "text": [
      "Genre has 4 unique value\n",
      "** MPAA_film_rating has 1 unique value **\n",
      "3D_available has 2 unique value\n"
     ]
    }
   ],
   "source": [
    "for feature in data:\n",
    "    if data[feature].dtype == 'O':\n",
    "        if len(data[feature].unique()) == 1:\n",
    "            print(f'** {feature} has 1 unique value **')\n",
    "        else:\n",
    "            print(f'{feature} has {len(data[feature].unique())} unique value')"
   ]
  },
  {
   "cell_type": "markdown",
   "id": "1ce60a89",
   "metadata": {},
   "source": [
    "### NUMBER OF UNIQUE NUMERICAL FEATURES"
   ]
  },
  {
   "cell_type": "code",
   "execution_count": 10,
   "id": "90604e7c",
   "metadata": {},
   "outputs": [
    {
     "name": "stdout",
     "output_type": "stream",
     "text": [
      "Collection has 228 unique vaue\n",
      "Marketin_expense has 504 unique vaue\n",
      "Production_expense has 76 unique vaue\n",
      "Multiplex_coverage has 81 unique vaue\n",
      "Budget has 446 unique vaue\n",
      "Movie_length has 356 unique vaue\n",
      "Lead_ Actor_Rating has 339 unique vaue\n",
      "Lead_Actress_rating has 354 unique vaue\n",
      "Director_rating has 339 unique vaue\n",
      "Producer_rating has 353 unique vaue\n",
      "Critic_rating has 74 unique vaue\n",
      "Trailer_views has 504 unique vaue\n",
      "Time_taken has 450 unique vaue\n",
      "Twitter_hastags has 423 unique vaue\n",
      "Avg_age_actors has 42 unique vaue\n",
      "Num_multiplex has 293 unique vaue\n"
     ]
    }
   ],
   "source": [
    "for feature in data:\n",
    "    if data[feature].dtype!='O':\n",
    "        if len(data[feature].unique())==1:\n",
    "            print(f'** {feature} has {len(data[feature].unique())} unique vaue **')\n",
    "        else:\n",
    "            print(f'{feature} has {len(data[feature].unique())} unique vaue')"
   ]
  },
  {
   "cell_type": "code",
   "execution_count": 11,
   "id": "b5e58ac9",
   "metadata": {},
   "outputs": [],
   "source": [
    "# \"MPAA_film_rating\" has only one unique value. So, it can be removed since it has no contribution to analysis\n",
    "\n",
    "del data['MPAA_film_rating']"
   ]
  },
  {
   "cell_type": "markdown",
   "id": "b3a0fd4b",
   "metadata": {},
   "source": [
    "### NUMBER OF COLUMNS AFTER REMOVING 3 FEATURES"
   ]
  },
  {
   "cell_type": "code",
   "execution_count": 12,
   "id": "0d8bfda0",
   "metadata": {},
   "outputs": [
    {
     "name": "stdout",
     "output_type": "stream",
     "text": [
      "The dataset has 18 columns\n"
     ]
    }
   ],
   "source": [
    "rows, columns = data.shape\n",
    "print(f'The dataset has {columns} columns')"
   ]
  },
  {
   "cell_type": "markdown",
   "id": "163b1780",
   "metadata": {},
   "source": [
    "### OBSERVATION ON TARGET VARIABLE"
   ]
  }
 ],
 "metadata": {
  "kernelspec": {
   "display_name": "Python 3",
   "language": "python",
   "name": "python3"
  },
  "language_info": {
   "codemirror_mode": {
    "name": "ipython",
    "version": 3
   },
   "file_extension": ".py",
   "mimetype": "text/x-python",
   "name": "python",
   "nbconvert_exporter": "python",
   "pygments_lexer": "ipython3",
   "version": "3.8.10"
  }
 },
 "nbformat": 4,
 "nbformat_minor": 5
}
